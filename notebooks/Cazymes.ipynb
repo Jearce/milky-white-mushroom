{
 "cells": [
  {
   "cell_type": "code",
   "execution_count": 2,
   "metadata": {},
   "outputs": [],
   "source": [
    "import seaborn as sns\n",
    "import matplotlib.pyplot as plt\n",
    "import pandas as pd\n",
    "import re\n",
    "\n",
    "sns.set(color_codes=True)\n",
    "sns.set(font_scale=True)\n",
    "sns.set_color_codes()"
   ]
  },
  {
   "cell_type": "code",
   "execution_count": 3,
   "metadata": {},
   "outputs": [],
   "source": [
    "df = pd.read_csv(\"../../milky_white_mushroom/results/cazymes/shiitake/filtered_hits.tsv\",delimiter=\"\\t\")"
   ]
  },
  {
   "cell_type": "code",
   "execution_count": 4,
   "metadata": {},
   "outputs": [
    {
     "data": {
      "text/html": [
       "<div>\n",
       "<style scoped>\n",
       "    .dataframe tbody tr th:only-of-type {\n",
       "        vertical-align: middle;\n",
       "    }\n",
       "\n",
       "    .dataframe tbody tr th {\n",
       "        vertical-align: top;\n",
       "    }\n",
       "\n",
       "    .dataframe thead th {\n",
       "        text-align: right;\n",
       "    }\n",
       "</style>\n",
       "<table border=\"1\" class=\"dataframe\">\n",
       "  <thead>\n",
       "    <tr style=\"text-align: right;\">\n",
       "      <th></th>\n",
       "      <th>Gene ID</th>\n",
       "      <th>HMMER</th>\n",
       "      <th>Hotpep</th>\n",
       "      <th>DIAMOND</th>\n",
       "      <th>#ofTools</th>\n",
       "    </tr>\n",
       "  </thead>\n",
       "  <tbody>\n",
       "    <tr>\n",
       "      <th>0</th>\n",
       "      <td>jgi|LedB17_3|100380|GENE14242.1</td>\n",
       "      <td>GT50(159-425)</td>\n",
       "      <td>GT50(1)</td>\n",
       "      <td>GT50</td>\n",
       "      <td>3</td>\n",
       "    </tr>\n",
       "    <tr>\n",
       "      <th>1</th>\n",
       "      <td>jgi|LedB17_3|100483|GENE14269.1</td>\n",
       "      <td>GH7(20-450)</td>\n",
       "      <td>GH7(1)+CBM1(1)</td>\n",
       "      <td>CBM1+GH7</td>\n",
       "      <td>3</td>\n",
       "    </tr>\n",
       "    <tr>\n",
       "      <th>2</th>\n",
       "      <td>jgi|LedB17_3|100547|g14336.t1</td>\n",
       "      <td>GH10(101-403)</td>\n",
       "      <td>GH10(37)+CBM1(2)</td>\n",
       "      <td>CBM1+GH10+3.2.1.8</td>\n",
       "      <td>3</td>\n",
       "    </tr>\n",
       "    <tr>\n",
       "      <th>3</th>\n",
       "      <td>jgi|LedB17_3|101015|g14480.t1</td>\n",
       "      <td>CE4(209-318)</td>\n",
       "      <td>CE4(145)</td>\n",
       "      <td>CE4</td>\n",
       "      <td>3</td>\n",
       "    </tr>\n",
       "    <tr>\n",
       "      <th>4</th>\n",
       "      <td>jgi|LedB17_3|101063|GENE211746.1</td>\n",
       "      <td>GH43_13(10-305)</td>\n",
       "      <td>-</td>\n",
       "      <td>GH43_13</td>\n",
       "      <td>2</td>\n",
       "    </tr>\n",
       "    <tr>\n",
       "      <th>...</th>\n",
       "      <td>...</td>\n",
       "      <td>...</td>\n",
       "      <td>...</td>\n",
       "      <td>...</td>\n",
       "      <td>...</td>\n",
       "    </tr>\n",
       "    <tr>\n",
       "      <th>318</th>\n",
       "      <td>jgi|LedB17_3|98397|GENE212952.1</td>\n",
       "      <td>-</td>\n",
       "      <td>AA1(22)</td>\n",
       "      <td>AA1</td>\n",
       "      <td>2</td>\n",
       "    </tr>\n",
       "    <tr>\n",
       "      <th>319</th>\n",
       "      <td>jgi|LedB17_3|115859|GENE211391.1</td>\n",
       "      <td>-</td>\n",
       "      <td>GT0(19)</td>\n",
       "      <td>GT0</td>\n",
       "      <td>2</td>\n",
       "    </tr>\n",
       "    <tr>\n",
       "      <th>320</th>\n",
       "      <td>jgi|LedB17_3|120524|GENE09187.1</td>\n",
       "      <td>-</td>\n",
       "      <td>GT20(4)</td>\n",
       "      <td>GT20</td>\n",
       "      <td>2</td>\n",
       "    </tr>\n",
       "    <tr>\n",
       "      <th>321</th>\n",
       "      <td>jgi|LedB17_3|142654|GENE204429.1</td>\n",
       "      <td>-</td>\n",
       "      <td>GT31(22)</td>\n",
       "      <td>GT31</td>\n",
       "      <td>2</td>\n",
       "    </tr>\n",
       "    <tr>\n",
       "      <th>322</th>\n",
       "      <td>jgi|LedB17_3|127846|g11533.t1</td>\n",
       "      <td>-</td>\n",
       "      <td>GT48(9)</td>\n",
       "      <td>GT48</td>\n",
       "      <td>2</td>\n",
       "    </tr>\n",
       "  </tbody>\n",
       "</table>\n",
       "<p>323 rows × 5 columns</p>\n",
       "</div>"
      ],
      "text/plain": [
       "                              Gene ID            HMMER            Hotpep  \\\n",
       "0     jgi|LedB17_3|100380|GENE14242.1    GT50(159-425)           GT50(1)   \n",
       "1     jgi|LedB17_3|100483|GENE14269.1      GH7(20-450)    GH7(1)+CBM1(1)   \n",
       "2       jgi|LedB17_3|100547|g14336.t1    GH10(101-403)  GH10(37)+CBM1(2)   \n",
       "3       jgi|LedB17_3|101015|g14480.t1     CE4(209-318)          CE4(145)   \n",
       "4    jgi|LedB17_3|101063|GENE211746.1  GH43_13(10-305)                 -   \n",
       "..                                ...              ...               ...   \n",
       "318   jgi|LedB17_3|98397|GENE212952.1                -           AA1(22)   \n",
       "319  jgi|LedB17_3|115859|GENE211391.1                -           GT0(19)   \n",
       "320   jgi|LedB17_3|120524|GENE09187.1                -           GT20(4)   \n",
       "321  jgi|LedB17_3|142654|GENE204429.1                -          GT31(22)   \n",
       "322     jgi|LedB17_3|127846|g11533.t1                -           GT48(9)   \n",
       "\n",
       "               DIAMOND  #ofTools  \n",
       "0                 GT50         3  \n",
       "1             CBM1+GH7         3  \n",
       "2    CBM1+GH10+3.2.1.8         3  \n",
       "3                  CE4         3  \n",
       "4              GH43_13         2  \n",
       "..                 ...       ...  \n",
       "318                AA1         2  \n",
       "319                GT0         2  \n",
       "320               GT20         2  \n",
       "321               GT31         2  \n",
       "322               GT48         2  \n",
       "\n",
       "[323 rows x 5 columns]"
      ]
     },
     "execution_count": 4,
     "metadata": {},
     "output_type": "execute_result"
    }
   ],
   "source": [
    "df"
   ]
  },
  {
   "cell_type": "code",
   "execution_count": 5,
   "metadata": {},
   "outputs": [],
   "source": [
    "from typing import Dict\n",
    "\n",
    "from collections import Counter\n",
    "\n",
    "def clean_label(element):\n",
    "    indexes_removed = re.sub(r\"\\([0-9]+-[0-9]+\\)\",\"\",element)\n",
    "    return re.sub(r\"_[0-9]+\",\"\",indexes_removed)\n",
    "\n",
    "def get_counts(df):\n",
    "    total = []\n",
    "    for row in df.values:\n",
    "        prediction1 = clean_label(row[1]).split('+')\n",
    "        prediection2 = clean_label(row[3]).split('+')\n",
    "        list(set(prediction1+prediection2))\n",
    "        total += [s if \"_\" not in s else s.split(\"_\")[0] for s in set(prediction1+prediection2) if s != \"N\" and s != \"-\" and \".\" not in s]\n",
    "    return Counter(total)\n",
    "\n",
    "def count_cazymes(all_counts: Dict[str,int]):\n",
    "    cazyme_count = {}\n",
    "    for sub_group,count in all_counts.items():\n",
    "        group = sub_group[:2]\n",
    "        if group[:2] == \"CB\":\n",
    "            group = sub_group[:3]\n",
    "        cazyme_count[group] = cazyme_count.get(group,0) + count\n",
    "    return cazyme_count\n",
    "\n",
    "def count_families(all_counts: Dict[str,int]):\n",
    "    family_counts = {}\n",
    "    for sub_group,count in all_counts.items():\n",
    "        group = sub_group[:2]\n",
    "        if group[:2] == \"CB\":\n",
    "            group = sub_group[:3]\n",
    "        sub_groups =family_counts.get(group,{})\n",
    "        sub_groups[sub_group] = sub_groups.get(sub_group,0) + count \n",
    "        family_counts[group] = sub_groups\n",
    "    return family_counts\n",
    "    "
   ]
  },
  {
   "cell_type": "code",
   "execution_count": 6,
   "metadata": {},
   "outputs": [],
   "source": [
    "all_counts = get_counts(df)\n",
    "cazyme_count = count_cazymes(all_counts)\n",
    "family_count = count_families(all_counts)"
   ]
  },
  {
   "cell_type": "code",
   "execution_count": 7,
   "metadata": {},
   "outputs": [
    {
     "data": {
      "text/plain": [
       "{'GT': 71, 'GH': 186, 'CBM': 36, 'CE': 14, 'PL': 6, 'AA': 61}"
      ]
     },
     "execution_count": 7,
     "metadata": {},
     "output_type": "execute_result"
    }
   ],
   "source": [
    "cazyme_count"
   ]
  },
  {
   "cell_type": "code",
   "execution_count": 8,
   "metadata": {},
   "outputs": [
    {
     "data": {
      "text/plain": [
       "{'GT': {'GT50': 1,\n",
       "  'GT39': 2,\n",
       "  'GT2': 21,\n",
       "  'GT5': 3,\n",
       "  'GT8': 2,\n",
       "  'GT22': 2,\n",
       "  'GT17': 1,\n",
       "  'GT1': 2,\n",
       "  'GT0': 3,\n",
       "  'GT90': 4,\n",
       "  'GT20': 3,\n",
       "  'GT66': 1,\n",
       "  'GT49': 1,\n",
       "  'GT24': 1,\n",
       "  'GT32': 1,\n",
       "  'GT57': 2,\n",
       "  'GT3': 1,\n",
       "  'GT48': 3,\n",
       "  'GT15': 9,\n",
       "  'GT4': 2,\n",
       "  'GT35': 1,\n",
       "  'GT69': 1,\n",
       "  'GT33': 1,\n",
       "  'GT21': 1,\n",
       "  'GT58': 1,\n",
       "  'GT31': 1},\n",
       " 'GH': {'GH7': 4,\n",
       "  'GH10': 3,\n",
       "  'GH43': 6,\n",
       "  'GH5': 17,\n",
       "  'GH3': 12,\n",
       "  'GH74': 1,\n",
       "  'GH18': 11,\n",
       "  'GH2': 4,\n",
       "  'GH16': 19,\n",
       "  'GH1': 2,\n",
       "  'GH152': 4,\n",
       "  'GH13': 13,\n",
       "  'GH55': 3,\n",
       "  'GH12': 4,\n",
       "  'GH37': 2,\n",
       "  'GH20': 3,\n",
       "  'GH71': 5,\n",
       "  'GH28': 9,\n",
       "  'GH78': 2,\n",
       "  'GH47': 4,\n",
       "  'GH17': 4,\n",
       "  'GH27': 1,\n",
       "  'GH95': 2,\n",
       "  'GH15': 5,\n",
       "  'GH154': 1,\n",
       "  'GH145': 1,\n",
       "  'GH133': 1,\n",
       "  'GH30': 4,\n",
       "  'GH75': 1,\n",
       "  'GH31': 5,\n",
       "  'GH11': 2,\n",
       "  'GH92': 5,\n",
       "  'GH131': 1,\n",
       "  'GH51': 3,\n",
       "  'GH53': 2,\n",
       "  'GH79': 2,\n",
       "  'GH35': 3,\n",
       "  'GH128': 1,\n",
       "  'GH72': 1,\n",
       "  'GH9': 1,\n",
       "  'GH105': 1,\n",
       "  'GH125': 1,\n",
       "  'GH25': 1,\n",
       "  'GH93': 1,\n",
       "  'GH63': 1,\n",
       "  'GH38': 1,\n",
       "  'GH115': 1,\n",
       "  'GH29': 1,\n",
       "  'GH106': 1,\n",
       "  'GH6': 1,\n",
       "  'GH88': 1,\n",
       "  'GH0': 1},\n",
       " 'CBM': {'CBM1': 21,\n",
       "  'CBM5': 3,\n",
       "  'CBM20': 6,\n",
       "  'CBM24': 1,\n",
       "  'CBM35': 2,\n",
       "  'CBM48': 1,\n",
       "  'CBM43': 1,\n",
       "  'CBM13': 1},\n",
       " 'CE': {'CE4': 5,\n",
       "  'CE9': 1,\n",
       "  'CE1': 1,\n",
       "  'CE15': 1,\n",
       "  'CE16': 3,\n",
       "  'CE12': 2,\n",
       "  'CE8': 1},\n",
       " 'PL': {'PL35': 1, 'PL14': 1, 'PL1': 1, 'PL7': 2, 'PL4': 1},\n",
       " 'AA': {'AA1': 14,\n",
       "  'AA9': 6,\n",
       "  'AA5': 5,\n",
       "  'AA3': 24,\n",
       "  'AA6': 2,\n",
       "  'AA8': 1,\n",
       "  'AA2': 8,\n",
       "  'AA14': 1}}"
      ]
     },
     "execution_count": 8,
     "metadata": {},
     "output_type": "execute_result"
    }
   ],
   "source": [
    "family_count"
   ]
  },
  {
   "cell_type": "code",
   "execution_count": 9,
   "metadata": {},
   "outputs": [
    {
     "data": {
      "text/plain": [
       "374"
      ]
     },
     "execution_count": 9,
     "metadata": {},
     "output_type": "execute_result"
    }
   ],
   "source": [
    "sum(value for value in cazyme_count.values())"
   ]
  },
  {
   "cell_type": "code",
   "execution_count": 31,
   "metadata": {},
   "outputs": [
    {
     "data": {
      "image/png": "[encoded data removed]",
      "text/plain": [
       "<Figure size 1080x432 with 1 Axes>"
      ]
     },
     "metadata": {},
     "output_type": "display_data"
    }
   ],
   "source": [
    "figure,axes = plt.subplots(nrows=1,ncols=1,figsize=(15,6))\n",
    "\n",
    "\n",
    "labels_sorted = sorted(list(family_count['GH'].items()),key=lambda pair: pair[0][2:])\n",
    "labels,counts = list(zip(*labels_sorted))\n",
    "\n",
    "axes.bar(list(range(len(labels))),counts,tick_label=labels)\n",
    "plt.tight_layout()\n",
    "\n",
    "#s = pd.Series(family_count[\"GH\"])\n",
    "#s.plot(ax=axes,kind=\"bar\")\n",
    "plt.ylabel(\"Count\")\n",
    "plt.xlabel(\"Glycoside Hydrolase family\")\n",
    "plt.yticks(range(1,21))\n",
    "plt.xticks(rotation=90)\n",
    "plt.savefig('GH-Counts.png',bbox_inches=\"tight\")\n",
    "plt.show()"
   ]
  },
  {
   "cell_type": "code",
   "execution_count": 34,
   "metadata": {},
   "outputs": [
    {
     "data": {
      "image/png": "[encoded data removed]",
      "text/plain": [
       "<Figure size 1080x432 with 1 Axes>"
      ]
     },
     "metadata": {},
     "output_type": "display_data"
    }
   ],
   "source": [
    "figure,axes = plt.subplots(nrows=1,ncols=1,figsize=(15,6))\n",
    "\n",
    "\n",
    "labels_sorted = sorted(list(family_count['GH'].items()),key=lambda pair: pair[1])\n",
    "labels,counts = list(zip(*labels_sorted))\n",
    "\n",
    "axes.bar(list(range(len(labels))),counts,tick_label=labels)\n",
    "plt.tight_layout()\n",
    "\n",
    "#s = pd.Series(family_count[\"GH\"])\n",
    "#s.plot(ax=axes,kind=\"bar\")\n",
    "plt.ylabel(\"Count\")\n",
    "plt.xlabel(\"Glycoside Hydrolase family\")\n",
    "plt.yticks(range(1,21))\n",
    "plt.xticks(rotation=90)\n",
    "plt.savefig('GH-Counts.png',bbox_inches=\"tight\")\n",
    "plt.show()"
   ]
  },
  {
   "cell_type": "code",
   "execution_count": null,
   "metadata": {},
   "outputs": [],
   "source": []
  }
 ],
 "metadata": {
  "kernelspec": {
   "display_name": "Python 3",
   "language": "python",
   "name": "python3"
  },
  "language_info": {
   "codemirror_mode": {
    "name": "ipython",
    "version": 3
   },
   "file_extension": ".py",
   "mimetype": "text/x-python",
   "name": "python",
   "nbconvert_exporter": "python",
   "pygments_lexer": "ipython3",
   "version": "3.8.3"
  }
 },
 "nbformat": 4,
 "nbformat_minor": 4
}
