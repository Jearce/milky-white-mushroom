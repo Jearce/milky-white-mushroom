{
 "cells": [
  {
   "cell_type": "code",
   "execution_count": 1,
   "metadata": {},
   "outputs": [],
   "source": [
    "import pandas\n",
    "from pandas import DataFrame\n",
    "from Bio import SeqIO\n",
    "\n",
    "headers = [\"query_acc\", \"subject_acc\",\"identity\", \"alignment_length\", \"mismatches\", \"gap_opens\", \"q_start\", \"q_end\", \"s_start\", \"s_end\",\"evalue\", \"bit score\"]\n",
    "blast_results = pandas.read_csv(\"filtered_results.txt\",delimiter=\"\\t\",header=None)\n",
    "blast_results.columns = headers\n",
    "highest_identity_hits = blast_results.loc[blast_results.groupby(by=\"query_acc\")[\"identity\"].idxmax()].sort_values(by=\"identity\",ascending=False)"
   ]
  },
  {
   "cell_type": "code",
   "execution_count": 2,
   "metadata": {},
   "outputs": [],
   "source": [
    "def create_df_from_fasta(file):\n",
    "    table = {\"id\":[],\"seq\":[],\"des\":[]}\n",
    "    for record in SeqIO.parse(file,\"fasta\"):\n",
    "        table[\"id\"].append(record.id)\n",
    "        table[\"seq\"].append(str(record.seq))\n",
    "        table[\"des\"].append(record.description.replace(record.id,\"\"))\n",
    "    return DataFrame.from_dict(table)\n",
    "\n",
    "ref_df = create_df_from_fasta(\"GCF_000300575.1_Agabi_varbisH97_2_protein.faa\")\n",
    "pred = create_df_from_fasta(\"prot_seq.faa\")"
   ]
  },
  {
   "cell_type": "code",
   "execution_count": 3,
   "metadata": {},
   "outputs": [],
   "source": [
    "seqs_df = ref_df.loc[ref_df[\"id\"].isin(set(highest_identity_hits[\"subject_acc\"]).intersection(set(ref_df[\"id\"])))]\n",
    "merged_inner = pandas.merge(left=highest_identity_hits, right=seqs_df, left_on='subject_acc', right_on='id').drop(columns=\"seq\")\n",
    "merged = pandas.merge(left=merged_inner, right=pred.drop(columns=\"des\"), left_on='query_acc', right_on='id')\n",
    "merged.to_csv(\"results.tsv\",sep=\"\\t\")"
   ]
  },
  {
   "cell_type": "code",
   "execution_count": 15,
   "metadata": {},
   "outputs": [
    {
     "data": {
      "text/plain": [
       "838"
      ]
     },
     "execution_count": 15,
     "metadata": {},
     "output_type": "execute_result"
    }
   ],
   "source": [
    "from Bio import SeqIO\n",
    "from Bio.Seq import Seq\n",
    "from Bio.SeqRecord import SeqRecord\n",
    "\n",
    "SeqIO.write([SeqRecord(Seq(seq),id=acc,description=des) for acc,seq,des in merged[[\"query_acc\",\"seq\",\"des\"]].values],\"hits.fasta\",\"fasta\")"
   ]
  },
  {
   "cell_type": "code",
   "execution_count": 10,
   "metadata": {},
   "outputs": [],
   "source": [
    "!sed 's/\\s//' rna5s-cleaned.fasta > rna5s-organism_names.fasta"
   ]
  },
  {
   "cell_type": "code",
   "execution_count": 13,
   "metadata": {},
   "outputs": [
    {
     "data": {
      "text/plain": [
       "1"
      ]
     },
     "execution_count": 13,
     "metadata": {},
     "output_type": "execute_result"
    }
   ],
   "source": [
    "from Bio import AlignIO\n",
    "\n",
    "blast_result = \"rna5s.aln.fasta\"\n",
    "msa = {m.name:m for m in AlignIO.read(blast_result,\"fasta\")}\n",
    "SeqIO.write(list(msa.values()),\"rna5s-nodup.fasta\",\"fasta\")\n",
    "AlignIO.write(AlignIO.read(\"rna5s-nodup.fasta\",\"fasta\"),f\"{blast_result}.phy\",\"phylip-relaxed\")"
   ]
  },
  {
   "cell_type": "code",
   "execution_count": 9,
   "metadata": {},
   "outputs": [
    {
     "data": {
      "text/plain": [
       "23"
      ]
     },
     "execution_count": 9,
     "metadata": {},
     "output_type": "execute_result"
    }
   ],
   "source": [
    "from Bio import SeqIO\n",
    "\n",
    "records = []\n",
    "for record in SeqIO.parse(\"rna5s.fasta\",\"fasta\"):\n",
    "    record.description = \"_\".join(record.description.replace(record.id,\"\").split(\" \")[1:3])\n",
    "    record.id = \"\";\n",
    "    if \"N\" not in record.seq:\n",
    "        records.append(record)\n",
    "    \n",
    "SeqIO.write(records,\"rna5s-cleaned.fasta\",\"fasta\")"
   ]
  }
 ],
 "metadata": {
  "kernelspec": {
   "display_name": "Python 3",
   "language": "python",
   "name": "python3"
  },
  "language_info": {
   "codemirror_mode": {
    "name": "ipython",
    "version": 3
   },
   "file_extension": ".py",
   "mimetype": "text/x-python",
   "name": "python",
   "nbconvert_exporter": "python",
   "pygments_lexer": "ipython3",
   "version": "3.8.3"
  }
 },
 "nbformat": 4,
 "nbformat_minor": 4
}
